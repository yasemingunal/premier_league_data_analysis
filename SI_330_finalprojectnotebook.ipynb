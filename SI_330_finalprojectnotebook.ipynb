{
 "cells": [
  {
   "cell_type": "markdown",
   "metadata": {},
   "source": [
    "# SI 330: Final Data Analysis Project \n",
    "\n",
    "## Topic: Analyzing English Premier League Data\n",
    "\n",
    "### By: Yasemin Gunal (gunaly)"
   ]
  },
  {
   "cell_type": "markdown",
   "metadata": {},
   "source": [
    "### Imports:"
   ]
  },
  {
   "cell_type": "code",
   "execution_count": 1,
   "metadata": {},
   "outputs": [],
   "source": [
    "import pandas as pd\n",
    "import numpy as np\n",
    "import seaborn as sns\n",
    "import matplotlib.pyplot as plt\n",
    "from datetime import datetime\n",
    "from sqlite3 import connect"
   ]
  },
  {
   "cell_type": "markdown",
   "metadata": {},
   "source": [
    "### Website Scrape & Calculations"
   ]
  },
  {
   "cell_type": "code",
   "execution_count": 2,
   "metadata": {},
   "outputs": [
    {
     "data": {
      "text/html": [
       "<div>\n",
       "<style scoped>\n",
       "    .dataframe tbody tr th:only-of-type {\n",
       "        vertical-align: middle;\n",
       "    }\n",
       "\n",
       "    .dataframe tbody tr th {\n",
       "        vertical-align: top;\n",
       "    }\n",
       "\n",
       "    .dataframe thead th {\n",
       "        text-align: right;\n",
       "    }\n",
       "</style>\n",
       "<table border=\"1\" class=\"dataframe\">\n",
       "  <thead>\n",
       "    <tr style=\"text-align: right;\">\n",
       "      <th></th>\n",
       "      <th>name</th>\n",
       "      <th>yearly_wage</th>\n",
       "      <th>salary_in_millions</th>\n",
       "    </tr>\n",
       "  </thead>\n",
       "  <tbody>\n",
       "    <tr>\n",
       "      <th>0</th>\n",
       "      <td>Gareth Bale</td>\n",
       "      <td>29328000</td>\n",
       "      <td>29.328</td>\n",
       "    </tr>\n",
       "    <tr>\n",
       "      <th>1</th>\n",
       "      <td>David De Gea</td>\n",
       "      <td>18200000</td>\n",
       "      <td>18.200</td>\n",
       "    </tr>\n",
       "    <tr>\n",
       "      <th>2</th>\n",
       "      <td>Paul Pogba</td>\n",
       "      <td>15080000</td>\n",
       "      <td>15.080</td>\n",
       "    </tr>\n",
       "    <tr>\n",
       "      <th>3</th>\n",
       "      <td>N'Golo Kanté</td>\n",
       "      <td>15080000</td>\n",
       "      <td>15.080</td>\n",
       "    </tr>\n",
       "    <tr>\n",
       "      <th>4</th>\n",
       "      <td>Timo Werner</td>\n",
       "      <td>13936000</td>\n",
       "      <td>13.936</td>\n",
       "    </tr>\n",
       "  </tbody>\n",
       "</table>\n",
       "</div>"
      ],
      "text/plain": [
       "           name  yearly_wage  salary_in_millions\n",
       "0   Gareth Bale     29328000              29.328\n",
       "1  David De Gea     18200000              18.200\n",
       "2    Paul Pogba     15080000              15.080\n",
       "3  N'Golo Kanté     15080000              15.080\n",
       "4   Timo Werner     13936000              13.936"
      ]
     },
     "execution_count": 2,
     "metadata": {},
     "output_type": "execute_result"
    }
   ],
   "source": [
    "salaries2 = pd.read_html('https://salarysport.com/football/premier-league/highest-paid/')[0]\n",
    "\n",
    "salaries2['Yearly Wage'] = salaries2['Yearly Wage'].astype('string').str[1:]\n",
    "salaries2['Yearly Wage'] = salaries2['Yearly Wage'].str.replace(',','')\n",
    "salaries2['Name'] = salaries2['Name'].astype('string')\n",
    "\n",
    "\n",
    "salaries2 = salaries2[['Name', 'Yearly Wage']]\n",
    "salaries2.columns = ['name', 'yearly_wage']\n",
    "\n",
    "salaries2 = salaries2.drop([11, 22]) #drop values with NaN\n",
    "\n",
    "\n",
    "salaries2['yearly_wage'] = salaries2['yearly_wage'].astype(int)\n",
    "salaries2['salary_in_millions'] = round((salaries2['yearly_wage']/1000000), 3)\n",
    "\n",
    "\n",
    "salaries2.dtypes\n",
    "salaries2.head()"
   ]
  },
  {
   "cell_type": "markdown",
   "metadata": {},
   "source": [
    "### Reading in and cleaning CSV files"
   ]
  },
  {
   "cell_type": "code",
   "execution_count": 3,
   "metadata": {},
   "outputs": [
    {
     "data": {
      "text/html": [
       "<div>\n",
       "<style scoped>\n",
       "    .dataframe tbody tr th:only-of-type {\n",
       "        vertical-align: middle;\n",
       "    }\n",
       "\n",
       "    .dataframe tbody tr th {\n",
       "        vertical-align: top;\n",
       "    }\n",
       "\n",
       "    .dataframe thead th {\n",
       "        text-align: right;\n",
       "    }\n",
       "</style>\n",
       "<table border=\"1\" class=\"dataframe\">\n",
       "  <thead>\n",
       "    <tr style=\"text-align: right;\">\n",
       "      <th></th>\n",
       "      <th>name</th>\n",
       "      <th>club</th>\n",
       "      <th>nationality</th>\n",
       "      <th>position</th>\n",
       "      <th>age</th>\n",
       "      <th>matches</th>\n",
       "      <th>starts</th>\n",
       "      <th>mins</th>\n",
       "      <th>goals</th>\n",
       "      <th>assists</th>\n",
       "      <th>passes_attempted</th>\n",
       "      <th>perc_passes_complete</th>\n",
       "      <th>penalty_goals</th>\n",
       "      <th>yellow_cards</th>\n",
       "      <th>red_cards</th>\n",
       "    </tr>\n",
       "  </thead>\n",
       "  <tbody>\n",
       "    <tr>\n",
       "      <th>0</th>\n",
       "      <td>Mason Mount</td>\n",
       "      <td>Chelsea</td>\n",
       "      <td>ENG</td>\n",
       "      <td>MF,FW</td>\n",
       "      <td>21</td>\n",
       "      <td>36</td>\n",
       "      <td>32</td>\n",
       "      <td>2890</td>\n",
       "      <td>6</td>\n",
       "      <td>5</td>\n",
       "      <td>1881</td>\n",
       "      <td>82.3</td>\n",
       "      <td>1</td>\n",
       "      <td>2</td>\n",
       "      <td>0</td>\n",
       "    </tr>\n",
       "    <tr>\n",
       "      <th>1</th>\n",
       "      <td>Edouard Mendy</td>\n",
       "      <td>Chelsea</td>\n",
       "      <td>SEN</td>\n",
       "      <td>GK</td>\n",
       "      <td>28</td>\n",
       "      <td>31</td>\n",
       "      <td>31</td>\n",
       "      <td>2745</td>\n",
       "      <td>0</td>\n",
       "      <td>0</td>\n",
       "      <td>1007</td>\n",
       "      <td>84.6</td>\n",
       "      <td>0</td>\n",
       "      <td>2</td>\n",
       "      <td>0</td>\n",
       "    </tr>\n",
       "    <tr>\n",
       "      <th>2</th>\n",
       "      <td>Timo Werner</td>\n",
       "      <td>Chelsea</td>\n",
       "      <td>GER</td>\n",
       "      <td>FW</td>\n",
       "      <td>24</td>\n",
       "      <td>35</td>\n",
       "      <td>29</td>\n",
       "      <td>2602</td>\n",
       "      <td>6</td>\n",
       "      <td>8</td>\n",
       "      <td>826</td>\n",
       "      <td>77.2</td>\n",
       "      <td>0</td>\n",
       "      <td>2</td>\n",
       "      <td>0</td>\n",
       "    </tr>\n",
       "    <tr>\n",
       "      <th>3</th>\n",
       "      <td>Ben Chilwell</td>\n",
       "      <td>Chelsea</td>\n",
       "      <td>ENG</td>\n",
       "      <td>DF</td>\n",
       "      <td>23</td>\n",
       "      <td>27</td>\n",
       "      <td>27</td>\n",
       "      <td>2286</td>\n",
       "      <td>3</td>\n",
       "      <td>5</td>\n",
       "      <td>1806</td>\n",
       "      <td>78.6</td>\n",
       "      <td>0</td>\n",
       "      <td>3</td>\n",
       "      <td>0</td>\n",
       "    </tr>\n",
       "    <tr>\n",
       "      <th>4</th>\n",
       "      <td>Reece James</td>\n",
       "      <td>Chelsea</td>\n",
       "      <td>ENG</td>\n",
       "      <td>DF</td>\n",
       "      <td>20</td>\n",
       "      <td>32</td>\n",
       "      <td>25</td>\n",
       "      <td>2373</td>\n",
       "      <td>1</td>\n",
       "      <td>2</td>\n",
       "      <td>1987</td>\n",
       "      <td>85.0</td>\n",
       "      <td>0</td>\n",
       "      <td>3</td>\n",
       "      <td>0</td>\n",
       "    </tr>\n",
       "  </tbody>\n",
       "</table>\n",
       "</div>"
      ],
      "text/plain": [
       "            name     club nationality position  age  matches  starts  mins  \\\n",
       "0    Mason Mount  Chelsea         ENG    MF,FW   21       36      32  2890   \n",
       "1  Edouard Mendy  Chelsea         SEN       GK   28       31      31  2745   \n",
       "2    Timo Werner  Chelsea         GER       FW   24       35      29  2602   \n",
       "3   Ben Chilwell  Chelsea         ENG       DF   23       27      27  2286   \n",
       "4    Reece James  Chelsea         ENG       DF   20       32      25  2373   \n",
       "\n",
       "   goals  assists  passes_attempted  perc_passes_complete  penalty_goals  \\\n",
       "0      6        5              1881                  82.3              1   \n",
       "1      0        0              1007                  84.6              0   \n",
       "2      6        8               826                  77.2              0   \n",
       "3      3        5              1806                  78.6              0   \n",
       "4      1        2              1987                  85.0              0   \n",
       "\n",
       "   yellow_cards  red_cards  \n",
       "0             2          0  \n",
       "1             2          0  \n",
       "2             2          0  \n",
       "3             3          0  \n",
       "4             3          0  "
      ]
     },
     "execution_count": 3,
     "metadata": {},
     "output_type": "execute_result"
    }
   ],
   "source": [
    "epl_csv = pd.read_csv('EPL_20_21.csv')\n",
    "epl_csv = epl_csv.drop(['Penalty_Attempted', 'xG', 'xA', ], axis=1)\n",
    "epl_csv.columns=['name', 'club', 'nationality', 'position', 'age', 'matches', 'starts', 'mins', 'goals', 'assists', 'passes_attempted', 'perc_passes_complete', 'penalty_goals', 'yellow_cards', 'red_cards']\n",
    "epl_csv.head()\n"
   ]
  },
  {
   "cell_type": "markdown",
   "metadata": {},
   "source": [
    "Filtering CSV for defenders and creating a DataFrame of only the defenders:"
   ]
  },
  {
   "cell_type": "code",
   "execution_count": 4,
   "metadata": {},
   "outputs": [
    {
     "data": {
      "text/html": [
       "<div>\n",
       "<style scoped>\n",
       "    .dataframe tbody tr th:only-of-type {\n",
       "        vertical-align: middle;\n",
       "    }\n",
       "\n",
       "    .dataframe tbody tr th {\n",
       "        vertical-align: top;\n",
       "    }\n",
       "\n",
       "    .dataframe thead th {\n",
       "        text-align: right;\n",
       "    }\n",
       "</style>\n",
       "<table border=\"1\" class=\"dataframe\">\n",
       "  <thead>\n",
       "    <tr style=\"text-align: right;\">\n",
       "      <th></th>\n",
       "      <th>yellow_cards_of_defenders</th>\n",
       "    </tr>\n",
       "    <tr>\n",
       "      <th>club</th>\n",
       "      <th></th>\n",
       "    </tr>\n",
       "  </thead>\n",
       "  <tbody>\n",
       "    <tr>\n",
       "      <th>Leicester City</th>\n",
       "      <td>33</td>\n",
       "    </tr>\n",
       "    <tr>\n",
       "      <th>Aston Villa</th>\n",
       "      <td>29</td>\n",
       "    </tr>\n",
       "    <tr>\n",
       "      <th>Sheffield United</th>\n",
       "      <td>28</td>\n",
       "    </tr>\n",
       "    <tr>\n",
       "      <th>Manchester United</th>\n",
       "      <td>28</td>\n",
       "    </tr>\n",
       "    <tr>\n",
       "      <th>Newcastle United</th>\n",
       "      <td>26</td>\n",
       "    </tr>\n",
       "  </tbody>\n",
       "</table>\n",
       "</div>"
      ],
      "text/plain": [
       "                   yellow_cards_of_defenders\n",
       "club                                        \n",
       "Leicester City                            33\n",
       "Aston Villa                               29\n",
       "Sheffield United                          28\n",
       "Manchester United                         28\n",
       "Newcastle United                          26"
      ]
     },
     "execution_count": 4,
     "metadata": {},
     "output_type": "execute_result"
    }
   ],
   "source": [
    "defenders_only = epl_csv[(epl_csv['position'] == 'DF')]\n",
    "defenders_only.head()\n",
    "\n",
    "cards_per_team_defenders_only = defenders_only[['club', 'yellow_cards']].groupby('club').sum()\n",
    "cards_per_team_defenders_only.columns = ['yellow_cards_of_defenders']\n",
    "\n",
    "cards_per_team_defenders_only.sort_values('yellow_cards_of_defenders', ascending=False).head()\n"
   ]
  },
  {
   "cell_type": "code",
   "execution_count": 5,
   "metadata": {},
   "outputs": [
    {
     "data": {
      "text/html": [
       "<div>\n",
       "<style scoped>\n",
       "    .dataframe tbody tr th:only-of-type {\n",
       "        vertical-align: middle;\n",
       "    }\n",
       "\n",
       "    .dataframe tbody tr th {\n",
       "        vertical-align: top;\n",
       "    }\n",
       "\n",
       "    .dataframe thead th {\n",
       "        text-align: right;\n",
       "    }\n",
       "</style>\n",
       "<table border=\"1\" class=\"dataframe\">\n",
       "  <thead>\n",
       "    <tr style=\"text-align: right;\">\n",
       "      <th></th>\n",
       "      <th>yellow_cards</th>\n",
       "    </tr>\n",
       "    <tr>\n",
       "      <th>club</th>\n",
       "      <th></th>\n",
       "    </tr>\n",
       "  </thead>\n",
       "  <tbody>\n",
       "    <tr>\n",
       "      <th>Arsenal</th>\n",
       "      <td>6</td>\n",
       "    </tr>\n",
       "    <tr>\n",
       "      <th>Aston Villa</th>\n",
       "      <td>7</td>\n",
       "    </tr>\n",
       "    <tr>\n",
       "      <th>Brighton</th>\n",
       "      <td>0</td>\n",
       "    </tr>\n",
       "    <tr>\n",
       "      <th>Burnley</th>\n",
       "      <td>5</td>\n",
       "    </tr>\n",
       "    <tr>\n",
       "      <th>Chelsea</th>\n",
       "      <td>3</td>\n",
       "    </tr>\n",
       "  </tbody>\n",
       "</table>\n",
       "</div>"
      ],
      "text/plain": [
       "             yellow_cards\n",
       "club                     \n",
       "Arsenal                 6\n",
       "Aston Villa             7\n",
       "Brighton                0\n",
       "Burnley                 5\n",
       "Chelsea                 3"
      ]
     },
     "execution_count": 5,
     "metadata": {},
     "output_type": "execute_result"
    }
   ],
   "source": [
    "forwards_only = epl_csv[(epl_csv['position']) == 'FW']\n",
    "cards_per_team_forwards_only = forwards_only[['club', 'yellow_cards']].groupby('club').sum()\n",
    "cards_per_team_forwards_only.head()\n"
   ]
  },
  {
   "cell_type": "code",
   "execution_count": 6,
   "metadata": {},
   "outputs": [
    {
     "data": {
      "text/html": [
       "<div>\n",
       "<style scoped>\n",
       "    .dataframe tbody tr th:only-of-type {\n",
       "        vertical-align: middle;\n",
       "    }\n",
       "\n",
       "    .dataframe tbody tr th {\n",
       "        vertical-align: top;\n",
       "    }\n",
       "\n",
       "    .dataframe thead th {\n",
       "        text-align: right;\n",
       "    }\n",
       "</style>\n",
       "<table border=\"1\" class=\"dataframe\">\n",
       "  <thead>\n",
       "    <tr style=\"text-align: right;\">\n",
       "      <th></th>\n",
       "      <th>assists</th>\n",
       "      <th>goals</th>\n",
       "    </tr>\n",
       "    <tr>\n",
       "      <th>club</th>\n",
       "      <th></th>\n",
       "      <th></th>\n",
       "    </tr>\n",
       "  </thead>\n",
       "  <tbody>\n",
       "    <tr>\n",
       "      <th>Arsenal</th>\n",
       "      <td>7</td>\n",
       "      <td>2</td>\n",
       "    </tr>\n",
       "    <tr>\n",
       "      <th>Aston Villa</th>\n",
       "      <td>9</td>\n",
       "      <td>7</td>\n",
       "    </tr>\n",
       "    <tr>\n",
       "      <th>Brighton</th>\n",
       "      <td>0</td>\n",
       "      <td>1</td>\n",
       "    </tr>\n",
       "    <tr>\n",
       "      <th>Burnley</th>\n",
       "      <td>10</td>\n",
       "      <td>8</td>\n",
       "    </tr>\n",
       "    <tr>\n",
       "      <th>Chelsea</th>\n",
       "      <td>4</td>\n",
       "      <td>7</td>\n",
       "    </tr>\n",
       "  </tbody>\n",
       "</table>\n",
       "</div>"
      ],
      "text/plain": [
       "             assists  goals\n",
       "club                       \n",
       "Arsenal            7      2\n",
       "Aston Villa        9      7\n",
       "Brighton           0      1\n",
       "Burnley           10      8\n",
       "Chelsea            4      7"
      ]
     },
     "execution_count": 6,
     "metadata": {},
     "output_type": "execute_result"
    }
   ],
   "source": [
    "mids_only = epl_csv[(epl_csv['position']) == 'MF']\n",
    "assists_per_team_mids_only = mids_only[['club', 'assists', 'goals']].groupby('club').sum()\n",
    "assists_per_team_mids_only.head()\n"
   ]
  },
  {
   "cell_type": "markdown",
   "metadata": {},
   "source": [
    "Creating a 'Successful Passes' column based on the percentage of successful player passes and how many passes they attempted"
   ]
  },
  {
   "cell_type": "code",
   "execution_count": 7,
   "metadata": {},
   "outputs": [
    {
     "data": {
      "text/html": [
       "<div>\n",
       "<style scoped>\n",
       "    .dataframe tbody tr th:only-of-type {\n",
       "        vertical-align: middle;\n",
       "    }\n",
       "\n",
       "    .dataframe tbody tr th {\n",
       "        vertical-align: top;\n",
       "    }\n",
       "\n",
       "    .dataframe thead th {\n",
       "        text-align: right;\n",
       "    }\n",
       "</style>\n",
       "<table border=\"1\" class=\"dataframe\">\n",
       "  <thead>\n",
       "    <tr style=\"text-align: right;\">\n",
       "      <th></th>\n",
       "      <th>successful_passes</th>\n",
       "    </tr>\n",
       "    <tr>\n",
       "      <th>club</th>\n",
       "      <th></th>\n",
       "    </tr>\n",
       "  </thead>\n",
       "  <tbody>\n",
       "    <tr>\n",
       "      <th>Manchester City</th>\n",
       "      <td>23582</td>\n",
       "    </tr>\n",
       "    <tr>\n",
       "      <th>Chelsea</th>\n",
       "      <td>21648</td>\n",
       "    </tr>\n",
       "    <tr>\n",
       "      <th>Liverpool FC</th>\n",
       "      <td>21527</td>\n",
       "    </tr>\n",
       "    <tr>\n",
       "      <th>Manchester United</th>\n",
       "      <td>18496</td>\n",
       "    </tr>\n",
       "    <tr>\n",
       "      <th>Arsenal</th>\n",
       "      <td>17802</td>\n",
       "    </tr>\n",
       "  </tbody>\n",
       "</table>\n",
       "</div>"
      ],
      "text/plain": [
       "                   successful_passes\n",
       "club                                \n",
       "Manchester City                23582\n",
       "Chelsea                        21648\n",
       "Liverpool FC                   21527\n",
       "Manchester United              18496\n",
       "Arsenal                        17802"
      ]
     },
     "execution_count": 7,
     "metadata": {},
     "output_type": "execute_result"
    }
   ],
   "source": [
    "for idx, row in epl_csv.iterrows():\n",
    "    epl_csv['successful_passes'] = epl_csv.apply(lambda row: round(row['passes_attempted'] * (row['perc_passes_complete']/100)), axis=1)\n",
    "\n",
    "num_passes_per_team = epl_csv[['club', 'successful_passes']].groupby('club').sum().sort_values('successful_passes', ascending=False)\n",
    "num_passes_per_team.head()"
   ]
  },
  {
   "cell_type": "markdown",
   "metadata": {},
   "source": [
    "Calculating the number of players per team and the total age per team in order to then calculate the average age of each team (and creating a column for that value)"
   ]
  },
  {
   "cell_type": "code",
   "execution_count": 8,
   "metadata": {},
   "outputs": [
    {
     "data": {
      "text/html": [
       "<div>\n",
       "<style scoped>\n",
       "    .dataframe tbody tr th:only-of-type {\n",
       "        vertical-align: middle;\n",
       "    }\n",
       "\n",
       "    .dataframe tbody tr th {\n",
       "        vertical-align: top;\n",
       "    }\n",
       "\n",
       "    .dataframe thead th {\n",
       "        text-align: right;\n",
       "    }\n",
       "</style>\n",
       "<table border=\"1\" class=\"dataframe\">\n",
       "  <thead>\n",
       "    <tr style=\"text-align: right;\">\n",
       "      <th></th>\n",
       "      <th>age</th>\n",
       "      <th>num_players</th>\n",
       "      <th>avg_age</th>\n",
       "    </tr>\n",
       "    <tr>\n",
       "      <th>club</th>\n",
       "      <th></th>\n",
       "      <th></th>\n",
       "      <th></th>\n",
       "    </tr>\n",
       "  </thead>\n",
       "  <tbody>\n",
       "    <tr>\n",
       "      <th>Manchester United</th>\n",
       "      <td>692</td>\n",
       "      <td>29</td>\n",
       "      <td>23.862</td>\n",
       "    </tr>\n",
       "    <tr>\n",
       "      <th>Southampton</th>\n",
       "      <td>700</td>\n",
       "      <td>29</td>\n",
       "      <td>24.138</td>\n",
       "    </tr>\n",
       "    <tr>\n",
       "      <th>Aston Villa</th>\n",
       "      <td>583</td>\n",
       "      <td>24</td>\n",
       "      <td>24.292</td>\n",
       "    </tr>\n",
       "    <tr>\n",
       "      <th>Wolverhampton Wanderers</th>\n",
       "      <td>660</td>\n",
       "      <td>27</td>\n",
       "      <td>24.444</td>\n",
       "    </tr>\n",
       "    <tr>\n",
       "      <th>Brighton</th>\n",
       "      <td>663</td>\n",
       "      <td>27</td>\n",
       "      <td>24.556</td>\n",
       "    </tr>\n",
       "  </tbody>\n",
       "</table>\n",
       "</div>"
      ],
      "text/plain": [
       "                         age  num_players  avg_age\n",
       "club                                              \n",
       "Manchester United        692           29   23.862\n",
       "Southampton              700           29   24.138\n",
       "Aston Villa              583           24   24.292\n",
       "Wolverhampton Wanderers  660           27   24.444\n",
       "Brighton                 663           27   24.556"
      ]
     },
     "execution_count": 8,
     "metadata": {},
     "output_type": "execute_result"
    }
   ],
   "source": [
    "num_players_per_team = epl_csv.value_counts('club')\n",
    "num_players_per_team = (num_players_per_team.to_frame('num_players'))\n",
    "age_per_team = epl_csv[['club', 'age']].groupby('club').sum()\n",
    "#display(num_players_per_team.head(), age_per_team.head())\n",
    "\n",
    "merged_df = age_per_team.merge(num_players_per_team, on='club')\n",
    "\n",
    "avg_ages = []\n",
    "for idx, row in merged_df.iterrows():\n",
    "    merged_df['avg_age'] = merged_df.apply(lambda row: round((row['age'] / row['num_players']), 3), axis=1)\n",
    "\n",
    "merged_df = merged_df.sort_values('avg_age', ascending=True)\n",
    "merged_df.head()"
   ]
  },
  {
   "cell_type": "markdown",
   "metadata": {},
   "source": [
    "Calculating the number of total yellow cards each team recieved throughout the season (based on how many each individual player recieved)"
   ]
  },
  {
   "cell_type": "code",
   "execution_count": 9,
   "metadata": {},
   "outputs": [],
   "source": [
    "cards_per_team = epl_csv[['club', 'yellow_cards']].groupby('club').sum()\n",
    "cards_per_team = cards_per_team.sort_values('yellow_cards', ascending=True)"
   ]
  },
  {
   "cell_type": "markdown",
   "metadata": {},
   "source": [
    "Merging DataFrames with age and yellow card count information so all data is stored in one DataFrame"
   ]
  },
  {
   "cell_type": "code",
   "execution_count": 10,
   "metadata": {},
   "outputs": [
    {
     "data": {
      "text/html": [
       "<div>\n",
       "<style scoped>\n",
       "    .dataframe tbody tr th:only-of-type {\n",
       "        vertical-align: middle;\n",
       "    }\n",
       "\n",
       "    .dataframe tbody tr th {\n",
       "        vertical-align: top;\n",
       "    }\n",
       "\n",
       "    .dataframe thead th {\n",
       "        text-align: right;\n",
       "    }\n",
       "</style>\n",
       "<table border=\"1\" class=\"dataframe\">\n",
       "  <thead>\n",
       "    <tr style=\"text-align: right;\">\n",
       "      <th></th>\n",
       "      <th>age</th>\n",
       "      <th>num_players</th>\n",
       "      <th>avg_age</th>\n",
       "      <th>yellow_cards</th>\n",
       "      <th>successful_passes</th>\n",
       "    </tr>\n",
       "    <tr>\n",
       "      <th>club</th>\n",
       "      <th></th>\n",
       "      <th></th>\n",
       "      <th></th>\n",
       "      <th></th>\n",
       "      <th></th>\n",
       "    </tr>\n",
       "  </thead>\n",
       "  <tbody>\n",
       "    <tr>\n",
       "      <th>Manchester United</th>\n",
       "      <td>692</td>\n",
       "      <td>29</td>\n",
       "      <td>23.862</td>\n",
       "      <td>64</td>\n",
       "      <td>18496</td>\n",
       "    </tr>\n",
       "    <tr>\n",
       "      <th>Southampton</th>\n",
       "      <td>700</td>\n",
       "      <td>29</td>\n",
       "      <td>24.138</td>\n",
       "      <td>52</td>\n",
       "      <td>14755</td>\n",
       "    </tr>\n",
       "    <tr>\n",
       "      <th>Aston Villa</th>\n",
       "      <td>583</td>\n",
       "      <td>24</td>\n",
       "      <td>24.292</td>\n",
       "      <td>71</td>\n",
       "      <td>12782</td>\n",
       "    </tr>\n",
       "    <tr>\n",
       "      <th>Wolverhampton Wanderers</th>\n",
       "      <td>660</td>\n",
       "      <td>27</td>\n",
       "      <td>24.444</td>\n",
       "      <td>55</td>\n",
       "      <td>15232</td>\n",
       "    </tr>\n",
       "    <tr>\n",
       "      <th>Brighton</th>\n",
       "      <td>663</td>\n",
       "      <td>27</td>\n",
       "      <td>24.556</td>\n",
       "      <td>49</td>\n",
       "      <td>15600</td>\n",
       "    </tr>\n",
       "  </tbody>\n",
       "</table>\n",
       "</div>"
      ],
      "text/plain": [
       "                         age  num_players  avg_age  yellow_cards  \\\n",
       "club                                                               \n",
       "Manchester United        692           29   23.862            64   \n",
       "Southampton              700           29   24.138            52   \n",
       "Aston Villa              583           24   24.292            71   \n",
       "Wolverhampton Wanderers  660           27   24.444            55   \n",
       "Brighton                 663           27   24.556            49   \n",
       "\n",
       "                         successful_passes  \n",
       "club                                        \n",
       "Manchester United                    18496  \n",
       "Southampton                          14755  \n",
       "Aston Villa                          12782  \n",
       "Wolverhampton Wanderers              15232  \n",
       "Brighton                             15600  "
      ]
     },
     "execution_count": 10,
     "metadata": {},
     "output_type": "execute_result"
    }
   ],
   "source": [
    "merged_df2 = merged_df.merge(cards_per_team, on='club')\n",
    "team_summed_info = merged_df2.merge(num_passes_per_team, on='club')\n",
    "team_summed_info.head()"
   ]
  },
  {
   "cell_type": "markdown",
   "metadata": {},
   "source": [
    "_____________________________________________________________________"
   ]
  },
  {
   "cell_type": "markdown",
   "metadata": {},
   "source": [
    "Creating a player_influence DataFrame that includes how many total yellow and red cards a player recieved and then filtering that DataFrame for only players who are Forwards (or both Midfielders and Forwards)"
   ]
  },
  {
   "cell_type": "code",
   "execution_count": 12,
   "metadata": {
    "scrolled": true
   },
   "outputs": [
    {
     "name": "stderr",
     "output_type": "stream",
     "text": [
      "<ipython-input-12-1879ceb00e20>:4: SettingWithCopyWarning: \n",
      "A value is trying to be set on a copy of a slice from a DataFrame.\n",
      "Try using .loc[row_indexer,col_indexer] = value instead\n",
      "\n",
      "See the caveats in the documentation: https://pandas.pydata.org/pandas-docs/stable/user_guide/indexing.html#returning-a-view-versus-a-copy\n",
      "  player_influence['card_points'] = epl_csv.apply(lambda row: row['yellow_cards'] + row['red_cards'], axis=1)\n"
     ]
    }
   ],
   "source": [
    "player_influence = epl_csv[['name', 'position', 'matches', 'mins', 'goals', 'yellow_cards', 'red_cards']]\n",
    "\n",
    "for idx, row in player_influence.iterrows():\n",
    "    player_influence['card_points'] = epl_csv.apply(lambda row: row['yellow_cards'] + row['red_cards'], axis=1)\n",
    "\n",
    "player_influence = player_influence.drop(['yellow_cards', 'red_cards'], axis=1)"
   ]
  },
  {
   "cell_type": "code",
   "execution_count": 13,
   "metadata": {
    "scrolled": true
   },
   "outputs": [
    {
     "data": {
      "text/html": [
       "<div>\n",
       "<style scoped>\n",
       "    .dataframe tbody tr th:only-of-type {\n",
       "        vertical-align: middle;\n",
       "    }\n",
       "\n",
       "    .dataframe tbody tr th {\n",
       "        vertical-align: top;\n",
       "    }\n",
       "\n",
       "    .dataframe thead th {\n",
       "        text-align: right;\n",
       "    }\n",
       "</style>\n",
       "<table border=\"1\" class=\"dataframe\">\n",
       "  <thead>\n",
       "    <tr style=\"text-align: right;\">\n",
       "      <th></th>\n",
       "      <th>name</th>\n",
       "      <th>position</th>\n",
       "      <th>matches</th>\n",
       "      <th>mins</th>\n",
       "      <th>goals</th>\n",
       "      <th>card_points</th>\n",
       "    </tr>\n",
       "  </thead>\n",
       "  <tbody>\n",
       "    <tr>\n",
       "      <th>2</th>\n",
       "      <td>Timo Werner</td>\n",
       "      <td>FW</td>\n",
       "      <td>35</td>\n",
       "      <td>2602</td>\n",
       "      <td>6</td>\n",
       "      <td>2</td>\n",
       "    </tr>\n",
       "    <tr>\n",
       "      <th>16</th>\n",
       "      <td>Tammy Abraham</td>\n",
       "      <td>FW</td>\n",
       "      <td>22</td>\n",
       "      <td>1040</td>\n",
       "      <td>6</td>\n",
       "      <td>0</td>\n",
       "    </tr>\n",
       "    <tr>\n",
       "      <th>19</th>\n",
       "      <td>Olivier Giroud</td>\n",
       "      <td>FW</td>\n",
       "      <td>17</td>\n",
       "      <td>748</td>\n",
       "      <td>4</td>\n",
       "      <td>1</td>\n",
       "    </tr>\n",
       "    <tr>\n",
       "      <th>23</th>\n",
       "      <td>Ruben Loftus-Cheek</td>\n",
       "      <td>FW</td>\n",
       "      <td>1</td>\n",
       "      <td>60</td>\n",
       "      <td>0</td>\n",
       "      <td>0</td>\n",
       "    </tr>\n",
       "    <tr>\n",
       "      <th>30</th>\n",
       "      <td>Raheem Sterling</td>\n",
       "      <td>FW</td>\n",
       "      <td>31</td>\n",
       "      <td>2536</td>\n",
       "      <td>10</td>\n",
       "      <td>4</td>\n",
       "    </tr>\n",
       "  </tbody>\n",
       "</table>\n",
       "</div>"
      ],
      "text/plain": [
       "                  name position  matches  mins  goals  card_points\n",
       "2          Timo Werner       FW       35  2602      6            2\n",
       "16       Tammy Abraham       FW       22  1040      6            0\n",
       "19      Olivier Giroud       FW       17   748      4            1\n",
       "23  Ruben Loftus-Cheek       FW        1    60      0            0\n",
       "30     Raheem Sterling       FW       31  2536     10            4"
      ]
     },
     "execution_count": 13,
     "metadata": {},
     "output_type": "execute_result"
    }
   ],
   "source": [
    "forwards_influence = player_influence[(player_influence['position'] == 'FW') | (player_influence['position'] == 'MF/FW')]\n",
    "forwards_influence.head()\n"
   ]
  },
  {
   "cell_type": "markdown",
   "metadata": {},
   "source": [
    "Using the salaries DataFrame created from the website scrape, I merged the information pertaining to the forwards/midfielders to obtain each players performance and their salary in one DataFrame"
   ]
  },
  {
   "cell_type": "code",
   "execution_count": 14,
   "metadata": {
    "scrolled": true
   },
   "outputs": [
    {
     "data": {
      "text/html": [
       "<div>\n",
       "<style scoped>\n",
       "    .dataframe tbody tr th:only-of-type {\n",
       "        vertical-align: middle;\n",
       "    }\n",
       "\n",
       "    .dataframe tbody tr th {\n",
       "        vertical-align: top;\n",
       "    }\n",
       "\n",
       "    .dataframe thead th {\n",
       "        text-align: right;\n",
       "    }\n",
       "</style>\n",
       "<table border=\"1\" class=\"dataframe\">\n",
       "  <thead>\n",
       "    <tr style=\"text-align: right;\">\n",
       "      <th></th>\n",
       "      <th>name</th>\n",
       "      <th>yearly_wage</th>\n",
       "      <th>salary_in_millions</th>\n",
       "      <th>position</th>\n",
       "      <th>matches</th>\n",
       "      <th>mins</th>\n",
       "      <th>goals</th>\n",
       "      <th>card_points</th>\n",
       "    </tr>\n",
       "  </thead>\n",
       "  <tbody>\n",
       "    <tr>\n",
       "      <th>0</th>\n",
       "      <td>Gareth Bale</td>\n",
       "      <td>29328000</td>\n",
       "      <td>29.328</td>\n",
       "      <td>FW</td>\n",
       "      <td>20</td>\n",
       "      <td>920</td>\n",
       "      <td>11</td>\n",
       "      <td>1</td>\n",
       "    </tr>\n",
       "    <tr>\n",
       "      <th>1</th>\n",
       "      <td>Timo Werner</td>\n",
       "      <td>13936000</td>\n",
       "      <td>13.936</td>\n",
       "      <td>FW</td>\n",
       "      <td>35</td>\n",
       "      <td>2602</td>\n",
       "      <td>6</td>\n",
       "      <td>2</td>\n",
       "    </tr>\n",
       "    <tr>\n",
       "      <th>2</th>\n",
       "      <td>Pierre-Emerick Aubameyang</td>\n",
       "      <td>13000000</td>\n",
       "      <td>13.000</td>\n",
       "      <td>FW</td>\n",
       "      <td>29</td>\n",
       "      <td>2332</td>\n",
       "      <td>10</td>\n",
       "      <td>2</td>\n",
       "    </tr>\n",
       "    <tr>\n",
       "      <th>3</th>\n",
       "      <td>Mohamed Salah</td>\n",
       "      <td>10400000</td>\n",
       "      <td>10.400</td>\n",
       "      <td>FW</td>\n",
       "      <td>37</td>\n",
       "      <td>3078</td>\n",
       "      <td>22</td>\n",
       "      <td>0</td>\n",
       "    </tr>\n",
       "    <tr>\n",
       "      <th>4</th>\n",
       "      <td>Harry Kane</td>\n",
       "      <td>10400000</td>\n",
       "      <td>10.400</td>\n",
       "      <td>FW</td>\n",
       "      <td>35</td>\n",
       "      <td>3082</td>\n",
       "      <td>23</td>\n",
       "      <td>1</td>\n",
       "    </tr>\n",
       "  </tbody>\n",
       "</table>\n",
       "</div>"
      ],
      "text/plain": [
       "                        name  yearly_wage  salary_in_millions position  \\\n",
       "0                Gareth Bale     29328000              29.328       FW   \n",
       "1                Timo Werner     13936000              13.936       FW   \n",
       "2  Pierre-Emerick Aubameyang     13000000              13.000       FW   \n",
       "3              Mohamed Salah     10400000              10.400       FW   \n",
       "4                 Harry Kane     10400000              10.400       FW   \n",
       "\n",
       "   matches  mins  goals  card_points  \n",
       "0       20   920     11            1  \n",
       "1       35  2602      6            2  \n",
       "2       29  2332     10            2  \n",
       "3       37  3078     22            0  \n",
       "4       35  3082     23            1  "
      ]
     },
     "execution_count": 14,
     "metadata": {},
     "output_type": "execute_result"
    }
   ],
   "source": [
    "forwards_influence_salaries = salaries2.merge(forwards_influence, on='name')\n",
    "forwards_influence_salaries = forwards_influence_salaries.drop_duplicates(subset='name')\n",
    "forwards_influence_salaries.head().sort_values('salary_in_millions', ascending=False)\n",
    "\n",
    "forwards_influence_salaries['name'] = forwards_influence_salaries['name'].astype('string')\n",
    "\n",
    "forwards_influence_salaries.dtypes\n",
    "forwards_influence_salaries.head()"
   ]
  },
  {
   "cell_type": "markdown",
   "metadata": {},
   "source": [
    "Creating scatterplots to help visualize the relationship between a forward's salary and the number of goals they have scored, and their salary versus the number of matches they have played in"
   ]
  },
  {
   "cell_type": "code",
   "execution_count": 15,
   "metadata": {
    "scrolled": true
   },
   "outputs": [
    {
     "data": {
      "text/plain": [
       "<AxesSubplot:title={'center':'Salary v. Num Goals Scored'}, xlabel='salary_in_millions', ylabel='goals'>"
      ]
     },
     "execution_count": 15,
     "metadata": {},
     "output_type": "execute_result"
    },
    {
     "data": {
      "image/png": "[encoded data removed]",
      "text/plain": [
       "<Figure size 720x360 with 2 Axes>"
      ]
     },
     "metadata": {
      "needs_background": "light"
     },
     "output_type": "display_data"
    }
   ],
   "source": [
    "fig, axes = plt.subplots(1, 2, sharex=True, figsize=(10,5))\n",
    "axes[0].set_title('Salary v. Num Matches Played')\n",
    "axes[1].set_title('Salary v. Num Goals Scored')\n",
    "fig.suptitle('Comparing Player Salary Influences')\n",
    "\n",
    "sns.scatterplot(ax=axes[0], x='salary_in_millions', y='matches', data=forwards_influence_salaries)\n",
    "\n",
    "sns.scatterplot(ax=axes[1], x='salary_in_millions', y='goals', data=forwards_influence_salaries)\n"
   ]
  },
  {
   "cell_type": "markdown",
   "metadata": {},
   "source": [
    "_____________________________________________________________________"
   ]
  },
  {
   "cell_type": "markdown",
   "metadata": {},
   "source": [
    "### Reading in DataBase & DataBase Calculations"
   ]
  },
  {
   "cell_type": "code",
   "execution_count": 16,
   "metadata": {},
   "outputs": [
    {
     "data": {
      "text/html": [
       "<div>\n",
       "<style scoped>\n",
       "    .dataframe tbody tr th:only-of-type {\n",
       "        vertical-align: middle;\n",
       "    }\n",
       "\n",
       "    .dataframe tbody tr th {\n",
       "        vertical-align: top;\n",
       "    }\n",
       "\n",
       "    .dataframe thead th {\n",
       "        text-align: right;\n",
       "    }\n",
       "</style>\n",
       "<table border=\"1\" class=\"dataframe\">\n",
       "  <thead>\n",
       "    <tr style=\"text-align: right;\">\n",
       "      <th></th>\n",
       "      <th>Referee</th>\n",
       "      <th>HomeTeam</th>\n",
       "      <th>AwayTeam</th>\n",
       "      <th>FTHG</th>\n",
       "      <th>FTAG</th>\n",
       "      <th>FTR</th>\n",
       "      <th>HTR</th>\n",
       "    </tr>\n",
       "  </thead>\n",
       "  <tbody>\n",
       "    <tr>\n",
       "      <th>0</th>\n",
       "      <td>K Friend</td>\n",
       "      <td>Sheffield United</td>\n",
       "      <td>Burnley</td>\n",
       "      <td>1</td>\n",
       "      <td>0</td>\n",
       "      <td>H</td>\n",
       "      <td>H</td>\n",
       "    </tr>\n",
       "    <tr>\n",
       "      <th>1</th>\n",
       "      <td>M Atkinson</td>\n",
       "      <td>West Ham</td>\n",
       "      <td>Southampton</td>\n",
       "      <td>3</td>\n",
       "      <td>0</td>\n",
       "      <td>H</td>\n",
       "      <td>H</td>\n",
       "    </tr>\n",
       "    <tr>\n",
       "      <th>2</th>\n",
       "      <td>M Dean</td>\n",
       "      <td>Wolves</td>\n",
       "      <td>Man United</td>\n",
       "      <td>1</td>\n",
       "      <td>2</td>\n",
       "      <td>A</td>\n",
       "      <td>A</td>\n",
       "    </tr>\n",
       "    <tr>\n",
       "      <th>3</th>\n",
       "      <td>J Moss</td>\n",
       "      <td>Arsenal</td>\n",
       "      <td>Brighton</td>\n",
       "      <td>2</td>\n",
       "      <td>0</td>\n",
       "      <td>H</td>\n",
       "      <td>D</td>\n",
       "    </tr>\n",
       "    <tr>\n",
       "      <th>4</th>\n",
       "      <td>M Oliver</td>\n",
       "      <td>Man City</td>\n",
       "      <td>Everton</td>\n",
       "      <td>5</td>\n",
       "      <td>0</td>\n",
       "      <td>H</td>\n",
       "      <td>H</td>\n",
       "    </tr>\n",
       "  </tbody>\n",
       "</table>\n",
       "</div>"
      ],
      "text/plain": [
       "      Referee          HomeTeam     AwayTeam  FTHG  FTAG FTR HTR\n",
       "0    K Friend  Sheffield United      Burnley     1     0   H   H\n",
       "1  M Atkinson          West Ham  Southampton     3     0   H   H\n",
       "2      M Dean            Wolves   Man United     1     2   A   A\n",
       "3      J Moss           Arsenal     Brighton     2     0   H   D\n",
       "4    M Oliver          Man City      Everton     5     0   H   H"
      ]
     },
     "execution_count": 16,
     "metadata": {},
     "output_type": "execute_result"
    }
   ],
   "source": [
    "conn = connect('epl_database')\n",
    "\n",
    "epl_db_df = pd.read_sql(\n",
    "    \"SELECT Referee, HomeTeam, AwayTeam, FTHG, FTAG, FTR, HTR FROM football_data WHERE League='Premier League' and Country='England' and Season='2020/2021'\", conn)\n",
    "\n",
    "epl_db_df.head()\n"
   ]
  },
  {
   "cell_type": "markdown",
   "metadata": {},
   "source": [
    "Calculating the goals conceded by each club in the 2020/21 season based on the Away Team and Home Team goals scored against"
   ]
  },
  {
   "cell_type": "code",
   "execution_count": 17,
   "metadata": {},
   "outputs": [
    {
     "data": {
      "text/plain": [
       "{'Sheffield United': 63,\n",
       " 'Burnley': 55,\n",
       " 'West Ham': 47,\n",
       " 'Southampton': 68,\n",
       " 'Wolves': 52,\n",
       " 'Man United': 44,\n",
       " 'Arsenal': 39,\n",
       " 'Brighton': 46,\n",
       " 'Man City': 32,\n",
       " 'Everton': 48,\n",
       " 'Aston Villa': 46,\n",
       " 'Chelsea': 36,\n",
       " 'Liverpool': 42,\n",
       " 'Crystal Palace': 66,\n",
       " 'Leicester': 50,\n",
       " 'Tottenham': 45,\n",
       " 'Leeds': 54,\n",
       " 'West Brom': 76,\n",
       " 'Fulham': 53,\n",
       " 'Newcastle': 62}"
      ]
     },
     "metadata": {},
     "output_type": "display_data"
    }
   ],
   "source": [
    "goals_conceded_dict = {}\n",
    "\n",
    "for idx, row in epl_db_df.iterrows():\n",
    "    if row['HomeTeam'] not in goals_conceded_dict.keys():\n",
    "        goals_conceded_dict[row['HomeTeam']] = row['FTAG']\n",
    "    else: \n",
    "        goals_conceded_dict[row['HomeTeam']] += row['FTAG']\n",
    "    \n",
    "    if row['AwayTeam'] not in goals_conceded_dict.keys():\n",
    "        goals_conceded_dict[row['AwayTeam']] = row['FTHG']\n",
    "    else: \n",
    "        goals_conceded_dict[row['AwayTeam']] += row['FTHG']\n",
    "\n",
    "display(goals_conceded_dict) #cross checked with premier league website\n"
   ]
  },
  {
   "cell_type": "code",
   "execution_count": 18,
   "metadata": {},
   "outputs": [
    {
     "data": {
      "text/html": [
       "<div>\n",
       "<style scoped>\n",
       "    .dataframe tbody tr th:only-of-type {\n",
       "        vertical-align: middle;\n",
       "    }\n",
       "\n",
       "    .dataframe tbody tr th {\n",
       "        vertical-align: top;\n",
       "    }\n",
       "\n",
       "    .dataframe thead th {\n",
       "        text-align: right;\n",
       "    }\n",
       "</style>\n",
       "<table border=\"1\" class=\"dataframe\">\n",
       "  <thead>\n",
       "    <tr style=\"text-align: right;\">\n",
       "      <th></th>\n",
       "      <th>num_goals_conceded</th>\n",
       "    </tr>\n",
       "    <tr>\n",
       "      <th>club</th>\n",
       "      <th></th>\n",
       "    </tr>\n",
       "  </thead>\n",
       "  <tbody>\n",
       "    <tr>\n",
       "      <th>Sheffield United</th>\n",
       "      <td>63</td>\n",
       "    </tr>\n",
       "    <tr>\n",
       "      <th>Burnley</th>\n",
       "      <td>55</td>\n",
       "    </tr>\n",
       "    <tr>\n",
       "      <th>West Ham United</th>\n",
       "      <td>47</td>\n",
       "    </tr>\n",
       "    <tr>\n",
       "      <th>Southampton</th>\n",
       "      <td>68</td>\n",
       "    </tr>\n",
       "    <tr>\n",
       "      <th>Wolverhampton Wanderers</th>\n",
       "      <td>52</td>\n",
       "    </tr>\n",
       "  </tbody>\n",
       "</table>\n",
       "</div>"
      ],
      "text/plain": [
       "                         num_goals_conceded\n",
       "club                                       \n",
       "Sheffield United                         63\n",
       "Burnley                                  55\n",
       "West Ham United                          47\n",
       "Southampton                              68\n",
       "Wolverhampton Wanderers                  52"
      ]
     },
     "execution_count": 18,
     "metadata": {},
     "output_type": "execute_result"
    }
   ],
   "source": [
    "club_names = goals_conceded_dict.keys()\n",
    "goals_conc = goals_conceded_dict.values()\n",
    "\n",
    "goals_conceded = pd.DataFrame({'club': club_names, 'num_goals_conceded':goals_conc}).set_index('club')\n",
    "goals_conceded = goals_conceded.rename(index={'Man City': 'Manchester City', 'Man United': 'Manchester United', 'Leicester': 'Leicester City', 'Liverpool': 'Liverpool FC', 'West Ham': 'West Ham United', 'Tottenham': 'Tottenham Hotspur', 'Newcastle': 'Newcastle United', 'Wolves': 'Wolverhampton Wanderers', 'West Brom': 'West Bromwich Albion'})\n",
    "\n",
    "goals_conceded.head()\n",
    "\n"
   ]
  },
  {
   "cell_type": "markdown",
   "metadata": {},
   "source": [
    "Calculating the probability that a team will win or lose based on their Home or Away status and the score at half-time"
   ]
  },
  {
   "cell_type": "code",
   "execution_count": 19,
   "metadata": {
    "scrolled": true
   },
   "outputs": [
    {
     "data": {
      "text/plain": [
       "A    59\n",
       "D    53\n",
       "H    41\n",
       "Name: FTR, dtype: int64"
      ]
     },
     "execution_count": 19,
     "metadata": {},
     "output_type": "execute_result"
    }
   ],
   "source": [
    "ties_at_half = epl_db_df[epl_db_df['HTR'] == 'D']\n",
    "ties_at_half['FTR'].value_counts()"
   ]
  },
  {
   "cell_type": "code",
   "execution_count": 20,
   "metadata": {
    "scrolled": true
   },
   "outputs": [
    {
     "data": {
      "text/plain": [
       "0.38562091503267976"
      ]
     },
     "metadata": {},
     "output_type": "display_data"
    },
    {
     "data": {
      "text/plain": [
       "0.3464052287581699"
      ]
     },
     "metadata": {},
     "output_type": "display_data"
    },
    {
     "data": {
      "text/plain": [
       "0.2679738562091503"
      ]
     },
     "metadata": {},
     "output_type": "display_data"
    }
   ],
   "source": [
    "away_when_tie = 59/153\n",
    "tie_when_tie = 53/153\n",
    "home_when_tie = 41/153\n",
    "\n",
    "display(away_when_tie, tie_when_tie, home_when_tie)"
   ]
  },
  {
   "cell_type": "code",
   "execution_count": 21,
   "metadata": {},
   "outputs": [
    {
     "data": {
      "text/plain": [
       "A    85\n",
       "D    13\n",
       "H     9\n",
       "Name: FTR, dtype: int64"
      ]
     },
     "execution_count": 21,
     "metadata": {},
     "output_type": "execute_result"
    }
   ],
   "source": [
    "away_win_at_half = epl_db_df[epl_db_df['HTR'] == 'A']\n",
    "away_win_at_half['FTR'].value_counts()"
   ]
  },
  {
   "cell_type": "code",
   "execution_count": 22,
   "metadata": {},
   "outputs": [
    {
     "data": {
      "text/plain": [
       "0.794392523364486"
      ]
     },
     "metadata": {},
     "output_type": "display_data"
    },
    {
     "data": {
      "text/plain": [
       "0.12149532710280374"
      ]
     },
     "metadata": {},
     "output_type": "display_data"
    },
    {
     "data": {
      "text/plain": [
       "0.08411214953271028"
      ]
     },
     "metadata": {},
     "output_type": "display_data"
    }
   ],
   "source": [
    "away_when_away = 85/107\n",
    "tie_when_away = 13/107\n",
    "home_when_away = 9/107\n",
    "\n",
    "display(away_when_away, tie_when_away, home_when_away)"
   ]
  },
  {
   "cell_type": "code",
   "execution_count": 23,
   "metadata": {},
   "outputs": [
    {
     "data": {
      "text/plain": [
       "H    94\n",
       "D    17\n",
       "A     9\n",
       "Name: FTR, dtype: int64"
      ]
     },
     "execution_count": 23,
     "metadata": {},
     "output_type": "execute_result"
    }
   ],
   "source": [
    "home_win_at_half = epl_db_df[epl_db_df['HTR'] == 'H']\n",
    "home_win_at_half['FTR'].value_counts()"
   ]
  },
  {
   "cell_type": "code",
   "execution_count": 24,
   "metadata": {},
   "outputs": [
    {
     "data": {
      "text/plain": [
       "0.7833333333333333"
      ]
     },
     "metadata": {},
     "output_type": "display_data"
    },
    {
     "data": {
      "text/plain": [
       "0.14166666666666666"
      ]
     },
     "metadata": {},
     "output_type": "display_data"
    },
    {
     "data": {
      "text/plain": [
       "0.075"
      ]
     },
     "metadata": {},
     "output_type": "display_data"
    }
   ],
   "source": [
    "home_when_home =  94/120\n",
    "tie_when_home = 17/120\n",
    "away_when_home = 9/120\n",
    "\n",
    "display(home_when_home, tie_when_home, away_when_home)"
   ]
  },
  {
   "cell_type": "markdown",
   "metadata": {},
   "source": [
    "_____________________________________________________________________"
   ]
  },
  {
   "cell_type": "markdown",
   "metadata": {},
   "source": [
    "Iterating through the database to obtain the number of wins for each team. This information was collected into a dictionary that was then re-formatted into a Dataframe"
   ]
  },
  {
   "cell_type": "code",
   "execution_count": 25,
   "metadata": {},
   "outputs": [
    {
     "data": {
      "text/html": [
       "<div>\n",
       "<style scoped>\n",
       "    .dataframe tbody tr th:only-of-type {\n",
       "        vertical-align: middle;\n",
       "    }\n",
       "\n",
       "    .dataframe tbody tr th {\n",
       "        vertical-align: top;\n",
       "    }\n",
       "\n",
       "    .dataframe thead th {\n",
       "        text-align: right;\n",
       "    }\n",
       "</style>\n",
       "<table border=\"1\" class=\"dataframe\">\n",
       "  <thead>\n",
       "    <tr style=\"text-align: right;\">\n",
       "      <th></th>\n",
       "      <th>num_wins</th>\n",
       "    </tr>\n",
       "    <tr>\n",
       "      <th>club</th>\n",
       "      <th></th>\n",
       "    </tr>\n",
       "  </thead>\n",
       "  <tbody>\n",
       "    <tr>\n",
       "      <th>Manchester City</th>\n",
       "      <td>27</td>\n",
       "    </tr>\n",
       "    <tr>\n",
       "      <th>Manchester United</th>\n",
       "      <td>21</td>\n",
       "    </tr>\n",
       "    <tr>\n",
       "      <th>Leicester City</th>\n",
       "      <td>20</td>\n",
       "    </tr>\n",
       "    <tr>\n",
       "      <th>Liverpool FC</th>\n",
       "      <td>20</td>\n",
       "    </tr>\n",
       "    <tr>\n",
       "      <th>West Ham United</th>\n",
       "      <td>19</td>\n",
       "    </tr>\n",
       "  </tbody>\n",
       "</table>\n",
       "</div>"
      ],
      "text/plain": [
       "                   num_wins\n",
       "club                       \n",
       "Manchester City          27\n",
       "Manchester United        21\n",
       "Leicester City           20\n",
       "Liverpool FC             20\n",
       "West Ham United          19"
      ]
     },
     "execution_count": 25,
     "metadata": {},
     "output_type": "execute_result"
    }
   ],
   "source": [
    "team_wins_dict = {}\n",
    "\n",
    "for idx, row in epl_db_df.iterrows():\n",
    "    if row['FTR'] == 'H':\n",
    "        if row['HomeTeam'] not in team_wins_dict.keys():\n",
    "            team_wins_dict[row['HomeTeam']] = 1\n",
    "        else: \n",
    "            team_wins_dict[row['HomeTeam']] += 1\n",
    "    elif row['FTR'] == 'A':\n",
    "        if row['AwayTeam'] not in team_wins_dict.keys():\n",
    "            team_wins_dict[row['AwayTeam']] = 1\n",
    "        else: \n",
    "            team_wins_dict[row['AwayTeam']] += 1\n",
    "\n",
    "# print(team_wins_dict)\n",
    "\n",
    "teams = team_wins_dict.keys()\n",
    "num_wins = team_wins_dict.values()\n",
    "\n",
    "wins_per_team = pd.DataFrame({'club':teams, 'num_wins':num_wins}).sort_values(by=['num_wins'], ascending=False).set_index('club')\n",
    "wins_per_team_new = wins_per_team.rename(index={'Man City': 'Manchester City', 'Man United': 'Manchester United', 'Leicester': 'Leicester City', 'Liverpool': 'Liverpool FC', 'West Ham': 'West Ham United', 'Tottenham': 'Tottenham Hotspur', 'Newcastle': 'Newcastle United', 'Wolves': 'Wolverhampton Wanderers', 'West Brom': 'West Bromwich Albion'})\n",
    "wins_per_team_new.head()"
   ]
  },
  {
   "cell_type": "markdown",
   "metadata": {},
   "source": [
    "Next, all information was organized into a single DataFrame by merging the database information on the number of team wins and the information on the average age, yellow cards recieved, and successful passes of each team:"
   ]
  },
  {
   "cell_type": "code",
   "execution_count": 26,
   "metadata": {},
   "outputs": [
    {
     "data": {
      "text/html": [
       "<div>\n",
       "<style scoped>\n",
       "    .dataframe tbody tr th:only-of-type {\n",
       "        vertical-align: middle;\n",
       "    }\n",
       "\n",
       "    .dataframe tbody tr th {\n",
       "        vertical-align: top;\n",
       "    }\n",
       "\n",
       "    .dataframe thead th {\n",
       "        text-align: right;\n",
       "    }\n",
       "</style>\n",
       "<table border=\"1\" class=\"dataframe\">\n",
       "  <thead>\n",
       "    <tr style=\"text-align: right;\">\n",
       "      <th></th>\n",
       "      <th>avg_age</th>\n",
       "      <th>yellow_cards</th>\n",
       "      <th>successful_passes</th>\n",
       "      <th>num_wins</th>\n",
       "    </tr>\n",
       "    <tr>\n",
       "      <th>club</th>\n",
       "      <th></th>\n",
       "      <th></th>\n",
       "      <th></th>\n",
       "      <th></th>\n",
       "    </tr>\n",
       "  </thead>\n",
       "  <tbody>\n",
       "    <tr>\n",
       "      <th>Manchester United</th>\n",
       "      <td>23.862</td>\n",
       "      <td>64</td>\n",
       "      <td>18496</td>\n",
       "      <td>21</td>\n",
       "    </tr>\n",
       "    <tr>\n",
       "      <th>Southampton</th>\n",
       "      <td>24.138</td>\n",
       "      <td>52</td>\n",
       "      <td>14755</td>\n",
       "      <td>12</td>\n",
       "    </tr>\n",
       "    <tr>\n",
       "      <th>Aston Villa</th>\n",
       "      <td>24.292</td>\n",
       "      <td>71</td>\n",
       "      <td>12782</td>\n",
       "      <td>16</td>\n",
       "    </tr>\n",
       "    <tr>\n",
       "      <th>Wolverhampton Wanderers</th>\n",
       "      <td>24.444</td>\n",
       "      <td>55</td>\n",
       "      <td>15232</td>\n",
       "      <td>12</td>\n",
       "    </tr>\n",
       "    <tr>\n",
       "      <th>Brighton</th>\n",
       "      <td>24.556</td>\n",
       "      <td>49</td>\n",
       "      <td>15600</td>\n",
       "      <td>9</td>\n",
       "    </tr>\n",
       "  </tbody>\n",
       "</table>\n",
       "</div>"
      ],
      "text/plain": [
       "                         avg_age  yellow_cards  successful_passes  num_wins\n",
       "club                                                                       \n",
       "Manchester United         23.862            64              18496        21\n",
       "Southampton               24.138            52              14755        12\n",
       "Aston Villa               24.292            71              12782        16\n",
       "Wolverhampton Wanderers   24.444            55              15232        12\n",
       "Brighton                  24.556            49              15600         9"
      ]
     },
     "execution_count": 26,
     "metadata": {},
     "output_type": "execute_result"
    }
   ],
   "source": [
    "merged_db_csv = team_summed_info.merge(wins_per_team_new, on='club').drop(['age', 'num_players'], axis=1)\n",
    "merged_db_csv.head()\n"
   ]
  },
  {
   "cell_type": "markdown",
   "metadata": {},
   "source": [
    "Creating scatterplot in order to visualize the relationship between the number of club wins versus club average age, club yellow cards, and club successful passes throughout the 2020-21 season."
   ]
  },
  {
   "cell_type": "code",
   "execution_count": 27,
   "metadata": {
    "scrolled": true
   },
   "outputs": [
    {
     "data": {
      "text/plain": [
       "[Text(0.5, 1.0, 'Successful Team Passes vs. Number of Wins')]"
      ]
     },
     "execution_count": 27,
     "metadata": {},
     "output_type": "execute_result"
    },
    {
     "data": {
      "image/png": "[encoded data removed]",
      "text/plain": [
       "<Figure size 720x720 with 4 Axes>"
      ]
     },
     "metadata": {
      "needs_background": "light"
     },
     "output_type": "display_data"
    }
   ],
   "source": [
    "f, axes=plt.subplots(2,2, figsize=(10, 10))\n",
    "sns.scatterplot(data=merged_db_csv, y='num_wins', x='avg_age', ax=axes[0,0], color='r').set(title='Avg. Team Age vs. Number of Wins')\n",
    "sns.scatterplot(data=merged_db_csv, y='num_wins', x='yellow_cards', ax=axes[1,0], color='y').set(title='Team Yellow Cards vs. Number of Wins')\n",
    "sns.scatterplot(data=merged_db_csv, y='num_wins', x='successful_passes', ax=axes[0,1], color='g').set(title='Successful Team Passes vs. Number of Wins')"
   ]
  },
  {
   "cell_type": "markdown",
   "metadata": {},
   "source": [
    "Creating scatterplots in order to visualize the relationship between the aggression of different team positions and how the team performs. First: defensive line aggression vs. number of goals conceded\n",
    "Second: offensive line aggression vs. number of wins"
   ]
  },
  {
   "cell_type": "code",
   "execution_count": 28,
   "metadata": {},
   "outputs": [
    {
     "data": {
      "text/html": [
       "<div>\n",
       "<style scoped>\n",
       "    .dataframe tbody tr th:only-of-type {\n",
       "        vertical-align: middle;\n",
       "    }\n",
       "\n",
       "    .dataframe tbody tr th {\n",
       "        vertical-align: top;\n",
       "    }\n",
       "\n",
       "    .dataframe thead th {\n",
       "        text-align: right;\n",
       "    }\n",
       "</style>\n",
       "<table border=\"1\" class=\"dataframe\">\n",
       "  <thead>\n",
       "    <tr style=\"text-align: right;\">\n",
       "      <th></th>\n",
       "      <th>num_goals_conceded</th>\n",
       "      <th>yellow_cards_of_defenders</th>\n",
       "    </tr>\n",
       "    <tr>\n",
       "      <th>club</th>\n",
       "      <th></th>\n",
       "      <th></th>\n",
       "    </tr>\n",
       "  </thead>\n",
       "  <tbody>\n",
       "    <tr>\n",
       "      <th>Sheffield United</th>\n",
       "      <td>63</td>\n",
       "      <td>28</td>\n",
       "    </tr>\n",
       "    <tr>\n",
       "      <th>Burnley</th>\n",
       "      <td>55</td>\n",
       "      <td>20</td>\n",
       "    </tr>\n",
       "    <tr>\n",
       "      <th>West Ham United</th>\n",
       "      <td>47</td>\n",
       "      <td>21</td>\n",
       "    </tr>\n",
       "    <tr>\n",
       "      <th>Southampton</th>\n",
       "      <td>68</td>\n",
       "      <td>21</td>\n",
       "    </tr>\n",
       "    <tr>\n",
       "      <th>Wolverhampton Wanderers</th>\n",
       "      <td>52</td>\n",
       "      <td>22</td>\n",
       "    </tr>\n",
       "  </tbody>\n",
       "</table>\n",
       "</div>"
      ],
      "text/plain": [
       "                         num_goals_conceded  yellow_cards_of_defenders\n",
       "club                                                                  \n",
       "Sheffield United                         63                         28\n",
       "Burnley                                  55                         20\n",
       "West Ham United                          47                         21\n",
       "Southampton                              68                         21\n",
       "Wolverhampton Wanderers                  52                         22"
      ]
     },
     "execution_count": 28,
     "metadata": {},
     "output_type": "execute_result"
    }
   ],
   "source": [
    "defense_aggression = goals_conceded.merge(cards_per_team_defenders_only, on='club')\n",
    "defense_aggression.head()\n"
   ]
  },
  {
   "cell_type": "code",
   "execution_count": 29,
   "metadata": {
    "scrolled": true
   },
   "outputs": [
    {
     "data": {
      "text/plain": [
       "[Text(0.5, 1.0, 'Defender Aggression vs. Number of Goals Conceded')]"
      ]
     },
     "execution_count": 29,
     "metadata": {},
     "output_type": "execute_result"
    },
    {
     "data": {
      "image/png": "[encoded data removed]",
      "text/plain": [
       "<Figure size 432x288 with 1 Axes>"
      ]
     },
     "metadata": {
      "needs_background": "light"
     },
     "output_type": "display_data"
    }
   ],
   "source": [
    "sns.scatterplot(data=defense_aggression, y='num_goals_conceded', x='yellow_cards_of_defenders').set(title='Defender Aggression vs. Number of Goals Conceded')\n"
   ]
  },
  {
   "cell_type": "code",
   "execution_count": 30,
   "metadata": {},
   "outputs": [
    {
     "data": {
      "text/html": [
       "<div>\n",
       "<style scoped>\n",
       "    .dataframe tbody tr th:only-of-type {\n",
       "        vertical-align: middle;\n",
       "    }\n",
       "\n",
       "    .dataframe tbody tr th {\n",
       "        vertical-align: top;\n",
       "    }\n",
       "\n",
       "    .dataframe thead th {\n",
       "        text-align: right;\n",
       "    }\n",
       "</style>\n",
       "<table border=\"1\" class=\"dataframe\">\n",
       "  <thead>\n",
       "    <tr style=\"text-align: right;\">\n",
       "      <th></th>\n",
       "      <th>yellow_cards</th>\n",
       "      <th>num_wins</th>\n",
       "    </tr>\n",
       "    <tr>\n",
       "      <th>club</th>\n",
       "      <th></th>\n",
       "      <th></th>\n",
       "    </tr>\n",
       "  </thead>\n",
       "  <tbody>\n",
       "    <tr>\n",
       "      <th>Arsenal</th>\n",
       "      <td>6</td>\n",
       "      <td>18</td>\n",
       "    </tr>\n",
       "    <tr>\n",
       "      <th>Aston Villa</th>\n",
       "      <td>7</td>\n",
       "      <td>16</td>\n",
       "    </tr>\n",
       "    <tr>\n",
       "      <th>Brighton</th>\n",
       "      <td>0</td>\n",
       "      <td>9</td>\n",
       "    </tr>\n",
       "    <tr>\n",
       "      <th>Burnley</th>\n",
       "      <td>5</td>\n",
       "      <td>10</td>\n",
       "    </tr>\n",
       "    <tr>\n",
       "      <th>Chelsea</th>\n",
       "      <td>3</td>\n",
       "      <td>19</td>\n",
       "    </tr>\n",
       "  </tbody>\n",
       "</table>\n",
       "</div>"
      ],
      "text/plain": [
       "             yellow_cards  num_wins\n",
       "club                               \n",
       "Arsenal                 6        18\n",
       "Aston Villa             7        16\n",
       "Brighton                0         9\n",
       "Burnley                 5        10\n",
       "Chelsea                 3        19"
      ]
     },
     "execution_count": 30,
     "metadata": {},
     "output_type": "execute_result"
    }
   ],
   "source": [
    "forward_aggression = cards_per_team_forwards_only.merge(wins_per_team_new, on='club')\n",
    "forward_aggression.head()\n"
   ]
  },
  {
   "cell_type": "code",
   "execution_count": 31,
   "metadata": {},
   "outputs": [
    {
     "data": {
      "text/plain": [
       "[Text(0.5, 1.0, 'Forward Aggression vs. Number of Wins')]"
      ]
     },
     "execution_count": 31,
     "metadata": {},
     "output_type": "execute_result"
    },
    {
     "data": {
      "image/png": "[encoded data removed]",
      "text/plain": [
       "<Figure size 432x288 with 1 Axes>"
      ]
     },
     "metadata": {
      "needs_background": "light"
     },
     "output_type": "display_data"
    }
   ],
   "source": [
    "sns.scatterplot(data=forward_aggression, y='num_wins', x='yellow_cards').set(title='Forward Aggression vs. Number of Wins')\n"
   ]
  },
  {
   "cell_type": "code",
   "execution_count": 32,
   "metadata": {},
   "outputs": [
    {
     "data": {
      "text/html": [
       "<div>\n",
       "<style scoped>\n",
       "    .dataframe tbody tr th:only-of-type {\n",
       "        vertical-align: middle;\n",
       "    }\n",
       "\n",
       "    .dataframe tbody tr th {\n",
       "        vertical-align: top;\n",
       "    }\n",
       "\n",
       "    .dataframe thead th {\n",
       "        text-align: right;\n",
       "    }\n",
       "</style>\n",
       "<table border=\"1\" class=\"dataframe\">\n",
       "  <thead>\n",
       "    <tr style=\"text-align: right;\">\n",
       "      <th></th>\n",
       "      <th>assists</th>\n",
       "      <th>goals</th>\n",
       "      <th>num_wins</th>\n",
       "    </tr>\n",
       "    <tr>\n",
       "      <th>club</th>\n",
       "      <th></th>\n",
       "      <th></th>\n",
       "      <th></th>\n",
       "    </tr>\n",
       "  </thead>\n",
       "  <tbody>\n",
       "    <tr>\n",
       "      <th>Arsenal</th>\n",
       "      <td>7</td>\n",
       "      <td>2</td>\n",
       "      <td>18</td>\n",
       "    </tr>\n",
       "    <tr>\n",
       "      <th>Aston Villa</th>\n",
       "      <td>9</td>\n",
       "      <td>7</td>\n",
       "      <td>16</td>\n",
       "    </tr>\n",
       "    <tr>\n",
       "      <th>Brighton</th>\n",
       "      <td>0</td>\n",
       "      <td>1</td>\n",
       "      <td>9</td>\n",
       "    </tr>\n",
       "    <tr>\n",
       "      <th>Burnley</th>\n",
       "      <td>10</td>\n",
       "      <td>8</td>\n",
       "      <td>10</td>\n",
       "    </tr>\n",
       "    <tr>\n",
       "      <th>Chelsea</th>\n",
       "      <td>4</td>\n",
       "      <td>7</td>\n",
       "      <td>19</td>\n",
       "    </tr>\n",
       "  </tbody>\n",
       "</table>\n",
       "</div>"
      ],
      "text/plain": [
       "             assists  goals  num_wins\n",
       "club                                 \n",
       "Arsenal            7      2        18\n",
       "Aston Villa        9      7        16\n",
       "Brighton           0      1         9\n",
       "Burnley           10      8        10\n",
       "Chelsea            4      7        19"
      ]
     },
     "execution_count": 32,
     "metadata": {},
     "output_type": "execute_result"
    }
   ],
   "source": [
    "mf_assist_influence = assists_per_team_mids_only.merge(wins_per_team_new, on='club')\n",
    "mf_assist_influence.head()\n"
   ]
  },
  {
   "cell_type": "code",
   "execution_count": 33,
   "metadata": {},
   "outputs": [
    {
     "data": {
      "text/plain": [
       "<matplotlib.legend.Legend at 0x7fb162777100>"
      ]
     },
     "execution_count": 33,
     "metadata": {},
     "output_type": "execute_result"
    },
    {
     "data": {
      "image/png": "[encoded data removed]",
      "text/plain": [
       "<Figure size 432x288 with 1 Axes>"
      ]
     },
     "metadata": {
      "needs_background": "light"
     },
     "output_type": "display_data"
    }
   ],
   "source": [
    "sns.lineplot(data=mf_assist_influence, y='num_wins', x='assists').set(title='Midfield Assists/Goals vs. Number of Wins')\n",
    "sns.lineplot(data=mf_assist_influence, y='num_wins', x='goals')\n",
    "\n",
    "plt.legend(labels=[\"Num. Assists\",\"Num. Goals\"])\n"
   ]
  }
 ],
 "metadata": {
  "kernelspec": {
   "display_name": "Python 3",
   "language": "python",
   "name": "python3"
  },
  "language_info": {
   "codemirror_mode": {
    "name": "ipython",
    "version": 3
   },
   "file_extension": ".py",
   "mimetype": "text/x-python",
   "name": "python",
   "nbconvert_exporter": "python",
   "pygments_lexer": "ipython3",
   "version": "3.8.5"
  }
 },
 "nbformat": 4,
 "nbformat_minor": 4
}
